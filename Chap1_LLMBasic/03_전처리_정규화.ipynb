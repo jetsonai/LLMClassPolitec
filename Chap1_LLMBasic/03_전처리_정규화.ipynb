{
  "nbformat": 4,
  "nbformat_minor": 0,
  "metadata": {
    "colab": {
      "provenance": []
    },
    "kernelspec": {
      "name": "python3",
      "display_name": "Python 3"
    },
    "language_info": {
      "name": "python"
    }
  },
  "cells": [
    {
      "cell_type": "markdown",
      "source": [
        "# 정규화 (Normalization)"
      ],
      "metadata": {
        "id": "dyDy-PW8pm3T"
      }
    },
    {
      "cell_type": "markdown",
      "source": [
        "## 어간 추출 (Stemming)\n",
        "\n"
      ],
      "metadata": {
        "id": "yHlVbqUBqoBZ"
      }
    },
    {
      "cell_type": "markdown",
      "source": [
        "- 단어의 접사(어미, 접두사)를 제거하여 단어의 어간(Stem)만을 남기는 기법.\n",
        "- 규칙 기반으로 동작하며, 항상 사전에 존재하는 단어를 반환하지는 않음\n"
      ],
      "metadata": {
        "id": "6FsBZSsZqrTC"
      }
    },
    {
      "cell_type": "markdown",
      "source": [
        "## 표제어 추출 (Lemmatization)"
      ],
      "metadata": {
        "id": "EbbDzbn2qr6a"
      }
    },
    {
      "cell_type": "markdown",
      "source": [
        "- 단어의 활용형을 사전에 등재된 기본형인 표제어(Lemma)로 변환하는 기법\n",
        "- 품사 정보를 고려하여 정확한 기본형을 탐색 단어의 어근을 추출하여 다양한 형태의 단어를 통일"
      ],
      "metadata": {
        "id": "PFLE28IlqsmI"
      }
    },
    {
      "cell_type": "markdown",
      "source": [
        "## nltk를 이용한 실습"
      ],
      "metadata": {
        "id": "HV4A-vLUqyvb"
      }
    },
    {
      "cell_type": "code",
      "source": [
        "!pip install nltk\n",
        "import nltk\n",
        "nltk.download('wordnet')\n",
        "nltk.download('omw-1.4')"
      ],
      "metadata": {
        "id": "B7uhEyCjp1OA"
      },
      "execution_count": null,
      "outputs": []
    },
    {
      "cell_type": "markdown",
      "source": [
        "### PorterStemmer 어간 추출"
      ],
      "metadata": {
        "id": "sxOt3wjSqqou"
      }
    },
    {
      "cell_type": "code",
      "execution_count": null,
      "metadata": {
        "id": "KC4kmWxzluYY"
      },
      "outputs": [],
      "source": [
        "from nltk.stem import PorterStemmer\n",
        "\n",
        "stemmer = PorterStemmer()\n",
        "\n",
        "words = [\"running\", \"runs\", \"runner\", \"easily\", \"fairly\"]\n",
        "\n",
        "stems = [stemmer.stem(word) for word in words]\n",
        "print(\"원본 단어들:\", words)\n",
        "print(\"어간 추출 결과:\", stems)"
      ]
    },
    {
      "cell_type": "markdown",
      "source": [
        "### WordNetLemmatizer 표제어 추출"
      ],
      "metadata": {
        "id": "ohmg_z9Pp6Ib"
      }
    },
    {
      "cell_type": "code",
      "source": [
        "from nltk.stem import WordNetLemmatizer\n",
        "\n",
        "lemmatizer = WordNetLemmatizer()\n",
        "\n",
        "words = [\"running\", \"runs\", \"ran\", \"easily\", \"fairly\"]\n",
        "\n",
        "lemmas = [lemmatizer.lemmatize(word, pos='v') for word in words]\n",
        "print(\"원본 단어들:\", words)\n",
        "print(\"표제어 추출 결과:\", lemmas)"
      ],
      "metadata": {
        "id": "z47I_G6fp6uv"
      },
      "execution_count": null,
      "outputs": []
    },
    {
      "cell_type": "markdown",
      "source": [
        "## KoNLPy를 이용한 실습"
      ],
      "metadata": {
        "id": "OMUhU7-jrOv6"
      }
    },
    {
      "cell_type": "code",
      "source": [
        "# KoNLPy 설치\n",
        "!pip install konlpy"
      ],
      "metadata": {
        "id": "EXUGDMjlp-T1"
      },
      "execution_count": null,
      "outputs": []
    },
    {
      "cell_type": "markdown",
      "source": [
        "### Okt를 이용한 어간 추출"
      ],
      "metadata": {
        "id": "zDT-m9pFrSFM"
      }
    },
    {
      "cell_type": "code",
      "source": [
        "from konlpy.tag import Okt\n",
        "\n",
        "okt = Okt()\n",
        "text = \"열심히 공부하고 있는 학생들은 좋은 성적을 받을 것입니다.\"\n",
        "\n",
        "# 형태소 분석 및 품사 태깅\n",
        "morphs = okt.morphs(text, stem=True)\n",
        "print(\"어간 추출 결과:\", morphs)"
      ],
      "metadata": {
        "id": "kP4TqhEWqDck"
      },
      "execution_count": null,
      "outputs": []
    },
    {
      "cell_type": "markdown",
      "source": [
        "### Okt를 이용한 형태소 분석 (stem=False)"
      ],
      "metadata": {
        "id": "pu9ys4MCrWL8"
      }
    },
    {
      "cell_type": "code",
      "source": [
        "from konlpy.tag import Okt\n",
        "\n",
        "okt = Okt()\n",
        "text = \"열심히 공부하고 있는 학생들은 좋은 성적을 받을 것입니다.\"\n",
        "\n",
        "# 형태소 분석 및 품사 태깅\n",
        "morphs = okt.morphs(text, stem=False)\n",
        "print(\"어간 추출 없이 형태소 분석 결과:\", morphs)"
      ],
      "metadata": {
        "id": "R1N6GXGyqFJF"
      },
      "execution_count": null,
      "outputs": []
    },
    {
      "cell_type": "markdown",
      "source": [
        "### Komoran을 이용한 형태소 분석"
      ],
      "metadata": {
        "id": "b9P-9d-qrZjG"
      }
    },
    {
      "cell_type": "code",
      "source": [
        "from konlpy.tag import Komoran\n",
        "\n",
        "komoran = Komoran()\n",
        "text = \"열심히 공부하고 있는 학생들은 좋은 성적을 받을 것입니다.\"\n",
        "\n",
        "morphs = komoran.morphs(text)\n",
        "print(\"Komoran 형태소 분석 결과:\", morphs)"
      ],
      "metadata": {
        "id": "Sels4QI5qG_s"
      },
      "execution_count": null,
      "outputs": []
    },
    {
      "cell_type": "markdown",
      "source": [
        "### Kkma를 이용한 형태소 분석"
      ],
      "metadata": {
        "id": "LbL16qUerck7"
      }
    },
    {
      "cell_type": "code",
      "source": [
        "from konlpy.tag import Kkma\n",
        "\n",
        "kkma = Kkma()\n",
        "text = \"열심히 공부하고 있는 학생들은 좋은 성적을 받을 것입니다.\"\n",
        "\n",
        "morphs = kkma.morphs(text)\n",
        "print(\"Kkma 형태소 분석 결과:\", morphs)\n"
      ],
      "metadata": {
        "id": "rjX1omBZqI7G"
      },
      "execution_count": null,
      "outputs": []
    },
    {
      "cell_type": "markdown",
      "source": [
        "### Okt를 이용한 품사 태깅"
      ],
      "metadata": {
        "id": "bHuDLFhrreXz"
      }
    },
    {
      "cell_type": "code",
      "source": [
        "from konlpy.tag import Okt\n",
        "\n",
        "okt = Okt()\n",
        "text = \"아버지가 방에 들어가신다.\"\n",
        "\n",
        "# 형태소 분석 및 품사 태깅\n",
        "pos = okt.pos(text, stem=True)\n",
        "print(\"품사 태깅 결과:\", pos)\n"
      ],
      "metadata": {
        "id": "0S2KHe_mqKba"
      },
      "execution_count": null,
      "outputs": []
    },
    {
      "cell_type": "markdown",
      "source": [
        "# 실습"
      ],
      "metadata": {
        "id": "NE5hr82OqMx6"
      }
    },
    {
      "cell_type": "markdown",
      "source": [
        "## 어간 추출 및 표제어 추출 적용하기\n"
      ],
      "metadata": {
        "id": "C8wpKAVRqNuf"
      }
    },
    {
      "cell_type": "markdown",
      "source": [
        "이전에 실습한 내용을 참고하여 Okt를 사용하여 어간 추출을 적용해보시오.\n",
        "\n",
        "예시 입력\n",
        "\n",
        "```\n",
        "text = \"그녀는 아름답게 웃었다. 그는 달리기를 시작했다.\"\n",
        "```\n",
        "\n",
        "목표 출력\n",
        "\n",
        "```\n",
        "어간 추출 결과: ['그녀', '는', '아름답다', '웃다', '.', '그', '는', '달리기', '를', '시작', '하다', '.']\n",
        "```"
      ],
      "metadata": {
        "id": "SKecfYIdqWe6"
      }
    },
    {
      "cell_type": "code",
      "source": [],
      "metadata": {
        "id": "bGqu4r11qNU_"
      },
      "execution_count": null,
      "outputs": []
    },
    {
      "cell_type": "markdown",
      "source": [
        "## 어간 추출 및 표제어 추출 적용하기"
      ],
      "metadata": {
        "id": "H-ZHaHoPqfNO"
      }
    },
    {
      "cell_type": "markdown",
      "source": [
        "이전에 실습한 내용을 참고하여 Okt를 사용하여 품사 태깅 및 명사 추출을 적용해보시오.\n",
        "\n",
        "예시 입력\n",
        "\n",
        "```\n",
        "text = \"그녀는 아름답게 웃었다. 그는 달리기를 시작했다.\"\n",
        "```\n",
        "\n",
        "목표 출력\n",
        "\n",
        "```\n",
        "품사 태깅 결과: [('그녀', 'Noun'), ('는', 'Josa'), ('아름답다', 'Adjective'), ('웃다', 'Verb'), ('.', 'Punctuation'), ('그', 'Noun'), ('는', 'Josa'), ('달리기', 'Noun'), ('를', 'Josa'), ('시작', 'Noun'), ('하다', 'Verb'), ('.', 'Punctuation')]\n",
        "명사 추출 결과: ['그녀', '그', '달리기', '시작']\n",
        "```"
      ],
      "metadata": {
        "id": "FlUYYUPFqgcs"
      }
    },
    {
      "cell_type": "code",
      "source": [],
      "metadata": {
        "id": "PQg4yQUeqfdI"
      },
      "execution_count": null,
      "outputs": []
    }
  ]
}