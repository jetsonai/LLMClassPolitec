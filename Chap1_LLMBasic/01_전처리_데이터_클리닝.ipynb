{
  "nbformat": 4,
  "nbformat_minor": 0,
  "metadata": {
    "colab": {
      "provenance": []
    },
    "kernelspec": {
      "name": "python3",
      "display_name": "Python 3"
    },
    "language_info": {
      "name": "python"
    }
  },
  "cells": [
    {
      "cell_type": "markdown",
      "source": [
        "# 데이터 클리닝 (Data Cleaning)\n",
        "\n",
        "\n"
      ],
      "metadata": {
        "id": "7WJT_-ItcuWe"
      }
    },
    {
      "cell_type": "markdown",
      "source": [
        "- 불필요한 문자 제거\n",
        " - HTML 태그, 이모지, 특수문자, 숫자 등 의미 없는 부분 제거\n",
        "- 소문자화\n",
        "  - 대소문자 차이로 인한 혼란을 줄이기 위해 모든 텍스트를 소문자로 변환\n",
        "- 공백 및 중복 제거\n",
        "  - 불필요한 공백이나 중복 단어를 정리"
      ],
      "metadata": {
        "id": "94YthdETe_vG"
      }
    },
    {
      "cell_type": "markdown",
      "source": [
        "## 불필요한 문자 제거\n",
        "\n",
        "\n"
      ],
      "metadata": {
        "id": "bQDtklrhdCFA"
      }
    },
    {
      "cell_type": "markdown",
      "source": [
        "- 구두점(Punctuation) 제거\n",
        " - 마침표, 쉼표 등과 같은 구두점 제거\n",
        "- 특수 문자 제거\n",
        " - @, #, $, %, ^, & 등과 같은 특수 문자 제거\n",
        "- 숫자 제거\n",
        " - 분석에 필요하지 않은 경우 숫자 제거"
      ],
      "metadata": {
        "id": "8LdgL9dsfa2D"
      }
    },
    {
      "cell_type": "markdown",
      "source": [
        "- Python 정규 표현식을 이용한 문자열 치환 설명\n",
        " - [정규식 설명 링크](http://pythonstudy.xyz/python/article/401-%EC%A0%95%EA%B7%9C-%ED%91%9C%ED%98%84%EC%8B%9D-Regex)\n"
      ],
      "metadata": {
        "id": "EisdUiaefmwM"
      }
    },
    {
      "cell_type": "code",
      "source": [
        "import re\n",
        "\n",
        "text = \"반갑습니다. 이 문장은 자연어 전처리를 실습하기 위한 예시 문장입니다.  :) #NLP #인공지능  #2025년\"\n",
        "# 구두점 및 특수 문자 제거\n",
        "cleaned_text = re.sub(r'[^\\w\\s]', '', text)\n",
        "print(cleaned_text)"
      ],
      "metadata": {
        "id": "XyQe8_ogbrnx"
      },
      "execution_count": null,
      "outputs": []
    },
    {
      "cell_type": "code",
      "source": [
        "text = \"와우!!! 정말 재미있어요ㅎㅎㅎㅎㅎㅎ\"\n",
        "pattern = re.compile(r'(.)\\1{2,}')\n",
        "cleaned_text = pattern.sub(r'\\1\\1', text)\n",
        "print(cleaned_text)"
      ],
      "metadata": {
        "id": "WlDJnRWNfN9D"
      },
      "execution_count": null,
      "outputs": []
    },
    {
      "cell_type": "code",
      "source": [
        "text = \"문의사항이 있으시면 support@example.com 또는 http://example.com 을 방문해주세요. 연락처는 010-1234-5678 입니다.\"\n",
        "\n",
        "# 이메일 주소 대체\n",
        "text = re.sub(r'\\S+@\\S+', '<EMAIL>', text)\n",
        "# URL 대체\n",
        "text = re.sub(r'http\\S+|www.\\S+', '<URL>', text)\n",
        "# 전화번호 대체\n",
        "text = re.sub(r'\\d{2,3}-\\d{3,4}-\\d{4}', '<PHONE>', text)\n",
        "print(text)"
      ],
      "metadata": {
        "id": "OWnMf06qfbZn"
      },
      "execution_count": null,
      "outputs": []
    },
    {
      "cell_type": "markdown",
      "source": [
        "## 소문자화"
      ],
      "metadata": {
        "id": "mgpHShFLdlTF"
      }
    },
    {
      "cell_type": "markdown",
      "source": [
        "- 영어 등의 대소문자를 구분하는 언어에서 대소문자를 통일하여 단어의 중복을 방지\n",
        "- 한국어의 경우 대소문자가 없으므로 이 단계는 생략할 수 있으나, 영어와 혼용된 텍스트에는 필요할 수 있음"
      ],
      "metadata": {
        "id": "R89tfVRlfdFQ"
      }
    },
    {
      "cell_type": "code",
      "source": [
        "text = \"Natural Language Processing is FUN!\"\n",
        "normalized_text = text.lower()\n",
        "print(normalized_text)"
      ],
      "metadata": {
        "id": "LrZsJbdodZAl"
      },
      "execution_count": null,
      "outputs": []
    },
    {
      "cell_type": "markdown",
      "source": [
        "## 공백 및 중복 제거\n"
      ],
      "metadata": {
        "id": "YAj5F5U7d00M"
      }
    },
    {
      "cell_type": "markdown",
      "source": [
        "- 여러 개의 공백을 하나의 공백으로 축소\n",
        "- 문장의 시작과 끝의 공백을 제거\n"
      ],
      "metadata": {
        "id": "tC2VCwb0fgYq"
      }
    },
    {
      "cell_type": "code",
      "source": [
        "text = \"반갑습니다. 이 문장은 자연어 전처리를 실습하기 위한 예시 문장입니다.  :) #NLP #인공지능  #2025년\"\n",
        "# 여러 공백을 하나로\n",
        "cleaned_text = re.sub(r'\\s+', ' ', text).strip()\n",
        "print(cleaned_text)"
      ],
      "metadata": {
        "id": "ohj15rtRdsvd"
      },
      "execution_count": null,
      "outputs": []
    },
    {
      "cell_type": "markdown",
      "source": [
        "# 실습\n",
        "\n"
      ],
      "metadata": {
        "id": "iJoqAgB1epLH"
      }
    },
    {
      "cell_type": "markdown",
      "source": [
        "- 이전에 실습한 내용을 참고하여 아래 문장을 정규화 해보세요.\n",
        "```\n",
        "text = \"\"\"\n",
        "안녕하세요!!!  저는 홍길동입니다.\n",
        "제 E-mail은 hong@gildong.com 이고,  홈페이지 주소는 http://gildong.com 이며, 전화번호는 010-1234-5678 입니다.\n",
        "\"\"\"\n",
        "\n",
        "```\n",
        "\n",
        "적용할 정규화 방법론\n",
        "- 소문자화\n",
        "- URL 대체\n",
        "- 전화번호 대체\n",
        "- 특수 문자 및 구두점 제거\n",
        "- 여러 개의 공백을 하나로 수정\n",
        "- 반복 문자 처리"
      ],
      "metadata": {
        "id": "f8OkouPTfi5s"
      }
    },
    {
      "cell_type": "code",
      "source": [],
      "metadata": {
        "id": "645ZccMGeIOt"
      },
      "execution_count": null,
      "outputs": []
    }
  ]
}