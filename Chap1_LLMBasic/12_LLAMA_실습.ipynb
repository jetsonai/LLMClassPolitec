{
  "cells": [
    {
      "cell_type": "markdown",
      "metadata": {
        "id": "vXnke_v_Hfid"
      },
      "source": [
        "# LLaMA 3.2 3B 모델 한국어 추론"
      ]
    },
    {
      "cell_type": "code",
      "execution_count": null,
      "metadata": {
        "id": "StVmLYA5G6_G"
      },
      "outputs": [],
      "source": [
        "# 환경 구성\n",
        "import torch\n",
        "from transformers import AutoTokenizer, AutoModelForCausalLM"
      ]
    },
    {
      "cell_type": "code",
      "execution_count": null,
      "metadata": {
        "id": "7ek6lvmeH4GX"
      },
      "outputs": [],
      "source": [
        "# 모델 준비\n",
        "model_id = 'Bllossom/llama-3.2-Korean-Bllossom-3B'\n",
        "tokenizer = AutoTokenizer.from_pretrained(model_id)\n",
        "model = AutoModelForCausalLM.from_pretrained(\n",
        "    model_id,\n",
        "    torch_dtype=torch.bfloat16,\n",
        "    device_map=\"auto\",\n",
        ")"
      ]
    },
    {
      "cell_type": "code",
      "execution_count": null,
      "metadata": {
        "id": "7rkGXJeOH5Gz"
      },
      "outputs": [],
      "source": [
        "# QnA 질문 준비\n",
        "instruction = \"철수가 20개의 연필을 가지고 있었는데 영희가 절반을 가져가고 민수가 남은 5개를 가져갔으면 철수에게 남은 연필의 갯수는 몇개인가요?\"\n",
        "\n",
        "messages = [\n",
        "    {\"role\": \"user\", \"content\": f\"{instruction}\"}\n",
        "    ]"
      ]
    },
    {
      "cell_type": "code",
      "execution_count": null,
      "metadata": {
        "id": "12sqj-gJH6U7"
      },
      "outputs": [],
      "source": [
        "# 채팅 형식 입력 준비\n",
        "input_ids = tokenizer.apply_chat_template(\n",
        "    messages,\n",
        "    add_generation_prompt=True,\n",
        "    return_tensors=\"pt\"\n",
        ").to(model.device)"
      ]
    },
    {
      "cell_type": "code",
      "execution_count": null,
      "metadata": {
        "id": "r3YVQB2QIF13"
      },
      "outputs": [],
      "source": [
        "terminators = [\n",
        "    tokenizer.convert_tokens_to_ids(\"<|end_of_text|>\"),\n",
        "    tokenizer.convert_tokens_to_ids(\"<|eot_id|>\")\n",
        "]"
      ]
    },
    {
      "cell_type": "code",
      "execution_count": null,
      "metadata": {
        "id": "nQW7eRg6ILJc"
      },
      "outputs": [],
      "source": [
        "# 추론\n",
        "outputs = model.generate(\n",
        "    input_ids,\n",
        "    max_new_tokens=1024,\n",
        "    eos_token_id=terminators,\n",
        "    do_sample=True,\n",
        "    temperature=0.6,\n",
        "    top_p=0.9\n",
        ")"
      ]
    },
    {
      "cell_type": "code",
      "execution_count": null,
      "metadata": {
        "id": "f9xvodX2INDz"
      },
      "outputs": [],
      "source": [
        "# 결과 출력\n",
        "print(tokenizer.decode(outputs[0][input_ids.shape[-1]:], skip_special_tokens=True))"
      ]
    },
    {
      "cell_type": "code",
      "execution_count": null,
      "metadata": {
        "id": "gmrwB4ClIOCB"
      },
      "outputs": [],
      "source": [
        "# 추론 함수 제작\n",
        "def inference_llama(instruction:str):\n",
        "    messages = [\n",
        "        {\"role\": \"user\", \"content\": f\"{instruction}\"}\n",
        "        ]\n",
        "    input_ids = tokenizer.apply_chat_template(\n",
        "        messages,\n",
        "        add_generation_prompt=True,\n",
        "        return_tensors=\"pt\"\n",
        "    ).to(model.device)\n",
        "    terminators = [\n",
        "        tokenizer.convert_tokens_to_ids(\"<|end_of_text|>\"),\n",
        "        tokenizer.convert_tokens_to_ids(\"<|eot_id|>\")\n",
        "    ]\n",
        "    outputs = model.generate(\n",
        "        input_ids,\n",
        "        max_new_tokens=1024,\n",
        "        eos_token_id=terminators,\n",
        "        do_sample=True,\n",
        "        temperature=0.6,\n",
        "        top_p=0.9\n",
        "    )\n",
        "    return tokenizer.decode(outputs[0][input_ids.shape[-1]:], skip_special_tokens=True)"
      ]
    },
    {
      "cell_type": "code",
      "execution_count": null,
      "metadata": {
        "id": "wJCASdYUI5JL"
      },
      "outputs": [],
      "source": [
        "question = \"ChatGPT에 대해 설명해봐\"\n",
        "answer = inference_llama(question)\n",
        "print(answer)"
      ]
    },
    {
      "cell_type": "code",
      "execution_count": null,
      "metadata": {
        "id": "t_LqJbiSI9rl"
      },
      "outputs": [],
      "source": []
    }
  ],
  "metadata": {
    "colab": {
      "private_outputs": true,
      "provenance": []
    },
    "kernelspec": {
      "display_name": "Python 3",
      "name": "python3"
    },
    "language_info": {
      "name": "python"
    }
  },
  "nbformat": 4,
  "nbformat_minor": 0
}
