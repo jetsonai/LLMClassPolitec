{
  "nbformat": 4,
  "nbformat_minor": 0,
  "metadata": {
    "colab": {
      "private_outputs": true,
      "provenance": []
    },
    "kernelspec": {
      "name": "python3",
      "display_name": "Python 3"
    },
    "language_info": {
      "name": "python"
    }
  },
  "cells": [
    {
      "cell_type": "markdown",
      "source": [
        "# LLaMA 3.2 3B 모델 프롬프트 튜닝 실습"
      ],
      "metadata": {
        "id": "vXnke_v_Hfid"
      }
    },
    {
      "cell_type": "code",
      "execution_count": null,
      "metadata": {
        "id": "StVmLYA5G6_G"
      },
      "outputs": [],
      "source": [
        "# 환경 구성\n",
        "import torch\n",
        "from transformers import AutoTokenizer, AutoModelForCausalLM\n",
        "\n",
        "# 모델 준비\n",
        "model_id = 'Bllossom/llama-3.2-Korean-Bllossom-3B'\n",
        "tokenizer = AutoTokenizer.from_pretrained(model_id)\n",
        "model = AutoModelForCausalLM.from_pretrained(\n",
        "    model_id,\n",
        "    torch_dtype=torch.bfloat16,\n",
        "    device_map=\"auto\",\n",
        ")\n",
        "\n",
        "# 추론 함수 제작\n",
        "def inference(messages):\n",
        "    input_ids = tokenizer.apply_chat_template(\n",
        "        messages,\n",
        "        add_generation_prompt=True,\n",
        "        return_tensors=\"pt\"\n",
        "    ).to(model.device)\n",
        "    terminators = [\n",
        "        tokenizer.convert_tokens_to_ids(\"<|end_of_text|>\"),\n",
        "        tokenizer.convert_tokens_to_ids(\"<|eot_id|>\")\n",
        "    ]\n",
        "    outputs = model.generate(\n",
        "        input_ids,\n",
        "        max_new_tokens=1024,\n",
        "        eos_token_id=terminators,\n",
        "        do_sample=True,\n",
        "        temperature=0.6,\n",
        "        top_p=0.9\n",
        "    )\n",
        "    return tokenizer.decode(outputs[0][input_ids.shape[-1]:], skip_special_tokens=True)"
      ]
    },
    {
      "cell_type": "code",
      "source": [
        "question = \"프롬프트 튜닝에 대해 알려줘\"\n",
        "messages = [\n",
        "    {\"role\": \"user\", \"content\": f\"{question}\"}\n",
        "    ]\n",
        "answer = inference(messages)\n",
        "print(answer)"
      ],
      "metadata": {
        "id": "oAvS1TJagTVl"
      },
      "execution_count": null,
      "outputs": []
    },
    {
      "cell_type": "code",
      "source": [
        "question = \"프롬프트 튜닝에 대해 알려줘\"\n",
        "messages = [\n",
        "    {\"role\": \"system\", \"content\": \"너는 친절한 한국어 챗봇이야. 질문에 대해 정리된 답을 알려줘\"},\n",
        "    {\"role\": \"user\", \"content\": f\"{question}\"}\n",
        "    ]\n",
        "answer = inference(messages)\n",
        "print(answer)"
      ],
      "metadata": {
        "id": "t_LqJbiSI9rl"
      },
      "execution_count": null,
      "outputs": []
    },
    {
      "cell_type": "code",
      "source": [],
      "metadata": {
        "id": "Iy1KdZzbkm0P"
      },
      "execution_count": null,
      "outputs": []
    }
  ]
}