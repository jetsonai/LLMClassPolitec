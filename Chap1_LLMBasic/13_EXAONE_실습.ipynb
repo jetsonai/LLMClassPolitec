{
  "nbformat": 4,
  "nbformat_minor": 0,
  "metadata": {
    "colab": {
      "private_outputs": true,
      "provenance": []
    },
    "kernelspec": {
      "name": "python3",
      "display_name": "Python 3"
    },
    "language_info": {
      "name": "python"
    }
  },
  "cells": [
    {
      "cell_type": "markdown",
      "source": [
        "# EXAONE 3.5 2.4B 모델 한국어 추론"
      ],
      "metadata": {
        "id": "cXxcHcQ9N23f"
      }
    },
    {
      "cell_type": "code",
      "execution_count": null,
      "metadata": {
        "id": "4PN5hq9LNYWd"
      },
      "outputs": [],
      "source": [
        "import torch\n",
        "from transformers import AutoModelForCausalLM, AutoTokenizer"
      ]
    },
    {
      "cell_type": "code",
      "source": [
        "model_name = \"LGAI-EXAONE/EXAONE-3.5-2.4B-Instruct\"\n",
        "\n",
        "model = AutoModelForCausalLM.from_pretrained(\n",
        "    model_name,\n",
        "    torch_dtype=torch.bfloat16,\n",
        "    trust_remote_code=True,\n",
        "    device_map=\"auto\"\n",
        ")\n",
        "tokenizer = AutoTokenizer.from_pretrained(model_name)"
      ],
      "metadata": {
        "id": "OSochvsDNcXk"
      },
      "execution_count": null,
      "outputs": []
    },
    {
      "cell_type": "code",
      "source": [
        "def inference(prompt):\n",
        "    messages = [\n",
        "        {\"role\": \"system\",\n",
        "        \"content\": \"You are EXAONE model from LG AI Research, a helpful assistant.\"},\n",
        "        {\"role\": \"user\", \"content\": prompt}\n",
        "    ]\n",
        "    input_ids = tokenizer.apply_chat_template(\n",
        "        messages,\n",
        "        tokenize=True,\n",
        "        add_generation_prompt=True,\n",
        "        return_tensors=\"pt\"\n",
        "    )\n",
        "\n",
        "    output = model.generate(\n",
        "        input_ids.to(\"cuda\"),\n",
        "        eos_token_id=tokenizer.eos_token_id,\n",
        "        max_new_tokens=128,\n",
        "        do_sample=False,\n",
        "    )\n",
        "    return tokenizer.decode(output[0])"
      ],
      "metadata": {
        "id": "qLdgbJFYNihp"
      },
      "execution_count": null,
      "outputs": []
    },
    {
      "cell_type": "code",
      "source": [
        "question = \"ChatGPT에 대해 설명해봐\"\n",
        "answer = inference(question)\n",
        "print(answer)"
      ],
      "metadata": {
        "id": "t1g97U5iNwgx"
      },
      "execution_count": null,
      "outputs": []
    },
    {
      "cell_type": "code",
      "source": [],
      "metadata": {
        "id": "M125MsKyN1VF"
      },
      "execution_count": null,
      "outputs": []
    }
  ]
}