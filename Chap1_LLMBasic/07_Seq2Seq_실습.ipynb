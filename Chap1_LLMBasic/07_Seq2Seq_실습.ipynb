{
  "nbformat": 4,
  "nbformat_minor": 0,
  "metadata": {
    "colab": {
      "private_outputs": true,
      "provenance": []
    },
    "kernelspec": {
      "name": "python3",
      "display_name": "Python 3"
    },
    "language_info": {
      "name": "python"
    }
  },
  "cells": [
    {
      "cell_type": "markdown",
      "source": [
        "# PyTorch Seq2Seq를 이용한 번역 모델 구현"
      ],
      "metadata": {
        "id": "asmr7JHyS1c4"
      }
    },
    {
      "cell_type": "markdown",
      "source": [
        "- 데이터 준비 및 전처리\n",
        "  - 데이터 준비\n",
        "  - 전처리\n",
        "  - 데이터셋 분할 및 DataLoader 생성\n",
        "- 모델 구축\n",
        "  - Seq2Seq 모델 구현\n",
        "- 모델 학습\n",
        "  - 손실 함수 및 최적화기 설정\n",
        "  - 모델 학습 루프 구현\n",
        "- 예측 및 결과 확인\n",
        "  - 임의 문장으로 예측 수행"
      ],
      "metadata": {
        "id": "8QXJZCRIS6qa"
      }
    },
    {
      "cell_type": "markdown",
      "source": [
        "## 데이터 준비 및 전처리"
      ],
      "metadata": {
        "id": "q0TmTHJ5YGFu"
      }
    },
    {
      "cell_type": "markdown",
      "source": [
        "데이터 준비"
      ],
      "metadata": {
        "id": "p5i3wbfKYOS-"
      }
    },
    {
      "cell_type": "code",
      "execution_count": null,
      "metadata": {
        "id": "v40gk1p7SvOx"
      },
      "outputs": [],
      "source": [
        "data = [\n",
        "    ('je suis etudiant', 'i am a student'),\n",
        "    ('j aime le football', 'i love football'),\n",
        "    ('il fait beau aujourd hui', 'it is nice today'),\n",
        "    ('je mange une pomme', 'i eat an apple'),\n",
        "    ('nous aimons apprendre', 'we love learning'),\n",
        "    ('je vais à l école', 'i go to school'),\n",
        "    ('tu es mon ami', 'you are my friend'),\n",
        "    ('elle lit un livre', 'she is reading a book'),\n",
        "    ('il écrit une lettre', 'he is writing a letter'),\n",
        "    ('nous regardons un film', 'we are watching a movie'),\n",
        "    ('vous parlez français', 'you speak french'),\n",
        "    ('ils jouent au tennis', 'they play tennis'),\n",
        "    ('je fais du sport', 'i do sports'),\n",
        "    ('tu écoutes de la musique', 'you listen to music'),\n",
        "    ('elle cuisine un gâteau', 'she is baking a cake'),\n",
        "    ('il conduit une voiture', 'he is driving a car'),\n",
        "    ('nous visitons le musée', 'we are visiting the museum'),\n",
        "    ('vous aimez la plage', 'you love the beach'),\n",
        "    ('ils dansent bien', 'they dance well'),\n",
        "    ('je prends le train', 'i take the train'),\n",
        "    ('tu joues de la guitare', 'you play the guitar'),\n",
        "    ('elle dessine un portrait', 'she draws a portrait'),\n",
        "    ('il apprend l anglais', 'he learns english'),\n",
        "    ('nous voyageons en avion', 'we travel by plane'),\n",
        "    ('vous travaillez dur', 'you work hard'),\n",
        "    ('ils étudient la biologie', 'they study biology'),\n",
        "    ('je bois du café', 'i drink coffee'),\n",
        "    ('tu manges du pain', 'you eat bread'),\n",
        "    ('elle porte une robe', 'she wears a dress'),\n",
        "    ('il lit le journal', 'he reads the newspaper'),\n",
        "    ('nous aimons la nature', 'we love nature'),\n",
        "    ('vous prenez le bus', 'you take the bus'),\n",
        "    ('ils chantent une chanson', 'they sing a song'),\n",
        "    ('je visite Paris', 'i visit paris'),\n",
        "    ('tu écris un poème', 'you write a poem'),\n",
        "    ('elle étudie la médecine', 'she studies medicine'),\n",
        "    ('il fait ses devoirs', 'he does his homework'),\n",
        "    ('nous préparons le dîner', 'we prepare dinner'),\n",
        "    ('vous jouez au basketball', 'you play basketball'),\n",
        "    ('ils regardent la télévision', 'they watch television'),\n",
        "    ('je dors bien', 'i sleep well'),\n",
        "    ('tu travailles dans un bureau', 'you work in an office'),\n",
        "    ('elle nage dans la piscine', 'she swims in the pool'),\n",
        "    ('il se réveille tôt', 'he wakes up early'),\n",
        "    ('nous chantons ensemble', 'we sing together'),\n",
        "    ('vous écrivez des emails', 'you write emails'),\n",
        "    ('ils jouent aux cartes', 'they play cards'),\n",
        "    ('je visite un parc', 'i visit a park'),\n",
        "    ('tu fais du vélo', 'you ride a bike'),\n",
        "    ('elle regarde les étoiles', 'she watches the stars'),\n",
        "    ('il monte les escaliers', 'he climbs the stairs'),\n",
        "    ('nous lisons un roman', 'we read a novel'),\n",
        "    ('vous écoutez la radio', 'you listen to the radio'),\n",
        "    ('ils se promènent en ville', 'they walk around the city'),\n",
        "    ('je cours dans le parc', 'i run in the park'),\n",
        "    ('tu achètes des légumes', 'you buy vegetables'),\n",
        "    ('elle joue au volley', 'she plays volleyball'),\n",
        "    ('il nettoie la maison', 'he cleans the house'),\n",
        "    ('nous prenons le petit déjeuner', 'we have breakfast'),\n",
        "    ('vous apprenez une nouvelle langue', 'you learn a new language'),\n",
        "    ('ils font la cuisine', 'they cook'),\n",
        "    ('je dessine une maison', 'i draw a house'),\n",
        "    ('tu regardes un documentaire', 'you watch a documentary'),\n",
        "    ('elle visite un château', 'she visits a castle'),\n",
        "    ('il photographie le paysage', 'he photographs the landscape'),\n",
        "    ('nous organisons une fête', 'we organize a party'),\n",
        "    ('vous jouez aux échecs', 'you play chess'),\n",
        "    ('ils courent ensemble', 'they run together'),\n",
        "    ('je regarde un match de football', 'i watch a football match'),\n",
        "    ('tu lis un magazine', 'you read a magazine'),\n",
        "    ('elle prépare une salade', 'she makes a salad'),\n",
        "    ('il voyage en train', 'he travels by train'),\n",
        "    ('nous faisons du shopping', 'we go shopping'),\n",
        "    ('vous dansez au club', 'you dance at the club'),\n",
        "    ('ils étudient l histoire', 'they study history'),\n",
        "    ('je visite le marché', 'i visit the market'),\n",
        "    ('tu achètes un cadeau', 'you buy a gift'),\n",
        "    ('elle travaille dans une école', 'she works in a school'),\n",
        "    ('il joue du piano', 'he plays the piano'),\n",
        "    ('nous regardons le coucher du soleil', 'we watch the sunset'),\n",
        "    ('vous apprenez à cuisiner', 'you learn to cook'),\n",
        "    ('ils se reposent après le travail', 'they rest after work'),\n",
        "    ('je prends des photos', 'i take photos'),\n",
        "    ('tu fais de la natation', 'you go swimming'),\n",
        "    ('elle sourit toujours', 'she always smiles'),\n",
        "    ('il étudie à l université', 'he studies at the university'),\n",
        "    ('nous visitons nos amis', 'we visit our friends'),\n",
        "    ('vous mangez au restaurant', 'you eat at the restaurant'),\n",
        "    ('ils jouent dans le jardin', 'they play in the garden'),\n",
        "    ('je prends des notes', 'i take notes'),\n",
        "    ('tu conduis prudemment', 'you drive carefully'),\n",
        "    ('elle chante magnifiquement', 'she sings beautifully'),\n",
        "    ('il lit un roman policier', 'he reads a detective novel'),\n",
        "    ('nous partons en vacances', 'we go on vacation'),\n",
        "    ('vous regardez les étoiles', 'you watch the stars'),\n",
        "    ('ils écoutent de la musique classique', 'they listen to classical music'),\n",
        "    ('je prépare un café', 'i make a coffee'),\n",
        "    ('tu joues avec ton chien', 'you play with your dog'),\n",
        "    ('elle porte des lunettes', 'she wears glasses'),\n",
        "    ('il aime le chocolat', 'he loves chocolate')\n",
        "]"
      ]
    },
    {
      "cell_type": "markdown",
      "source": [
        "전처리"
      ],
      "metadata": {
        "id": "SLNaT-DIYLN2"
      }
    },
    {
      "cell_type": "code",
      "source": [
        "import re\n",
        "import unicodedata\n",
        "\n",
        "# 문장 전처리 함수\n",
        "def preprocess_sentence(sentence):\n",
        "    # 악센트 제거\n",
        "    sentence = ''.join(c for c in unicodedata.normalize('NFD', sentence)\n",
        "                       if unicodedata.category(c) != 'Mn')\n",
        "    # 소문자 변환\n",
        "    sentence = sentence.lower()\n",
        "    # 특수 문자 제거\n",
        "    sentence = re.sub(r\"[^a-zA-Z0-9]+\", \" \", sentence)\n",
        "    # 양쪽 공백 제거\n",
        "    sentence = sentence.strip()\n",
        "    return sentence\n",
        "\n",
        "# 입력과 출력 문장 전처리\n",
        "input_texts = []\n",
        "target_texts = []\n",
        "input_vocab = set()\n",
        "target_vocab = set()\n",
        "\n",
        "for input_sentence, target_sentence in data:\n",
        "    input_sentence = preprocess_sentence(input_sentence)\n",
        "    target_sentence = preprocess_sentence(target_sentence)\n",
        "    # 시작과 종료 토큰 추가\n",
        "    target_sentence = '<sos> ' + target_sentence + ' <eos>'\n",
        "    input_texts.append(input_sentence)\n",
        "    target_texts.append(target_sentence)\n",
        "    # 어휘 사전 생성\n",
        "    input_vocab.update(input_sentence.split(' '))\n",
        "    target_vocab.update(target_sentence.split(' '))\n",
        "\n",
        "# 단어 사전에 PAD 토큰 추가\n",
        "input_vocab = ['<pad>'] + sorted(input_vocab)\n",
        "target_vocab = ['<pad>'] + sorted(target_vocab)\n",
        "\n",
        "# 단어와 인덱스 매핑\n",
        "input_word2idx = {word: idx for idx, word in enumerate(input_vocab)}\n",
        "input_idx2word = {idx: word for idx, word in enumerate(input_vocab)}\n",
        "\n",
        "target_word2idx = {word: idx for idx, word in enumerate(target_vocab)}\n",
        "target_idx2word = {idx: word for idx, word in enumerate(target_vocab)}\n",
        "\n",
        "# 최대 시퀀스 길이 계산\n",
        "max_input_len = max(len(seq.split(' ')) for seq in input_texts)\n",
        "max_target_len = max(len(seq.split(' ')) for seq in target_texts)\n",
        "\n",
        "# 시퀀스를 인덱스 시퀀스로 변환하고 패딩 적용\n",
        "def text_to_sequence(text, word2idx, max_len):\n",
        "    seq = [word2idx[word] for word in text.split(' ')]\n",
        "    seq += [word2idx['<pad>']] * (max_len - len(seq))\n",
        "    return seq\n",
        "\n",
        "input_sequences = [text_to_sequence(text, input_word2idx, max_input_len) for text in input_texts]\n",
        "target_sequences = [text_to_sequence(text, target_word2idx, max_target_len) for text in target_texts]\n",
        "\n",
        "\n",
        "print(\"입력 시퀀스 예시:\", input_sequences[0])\n",
        "print(\"출력 시퀀스 예시:\", target_sequences[0])"
      ],
      "metadata": {
        "id": "NRXUqadvYIGe"
      },
      "execution_count": null,
      "outputs": []
    },
    {
      "cell_type": "markdown",
      "source": [
        "## 모델 구축"
      ],
      "metadata": {
        "id": "-Fw7sIMHYX1z"
      }
    },
    {
      "cell_type": "markdown",
      "source": [
        "인코더 클래스 정의"
      ],
      "metadata": {
        "id": "myyJzu9qYaKY"
      }
    },
    {
      "cell_type": "code",
      "source": [
        "import torch\n",
        "import torch.nn as nn\n",
        "\n",
        "class Encoder(nn.Module):\n",
        "    def __init__(self, input_vocab_size, embed_size, hidden_size):\n",
        "        super(Encoder, self).__init__()\n",
        "        self.embedding = nn.Embedding(input_vocab_size, embed_size)\n",
        "        self.lstm = nn.LSTM(embed_size, hidden_size, batch_first=True)\n",
        "\n",
        "    def forward(self, x):\n",
        "        # x: [batch_size, seq_len]\n",
        "        embedding = self.embedding(x)\n",
        "        # embedding: [batch_size, seq_len, embed_size]\n",
        "        outputs, (hidden, cell) = self.lstm(embedding)\n",
        "        # outputs: [batch_size, seq_len, hidden_size]\n",
        "        return hidden, cell"
      ],
      "metadata": {
        "id": "jAwPfbt6YWmo"
      },
      "execution_count": null,
      "outputs": []
    },
    {
      "cell_type": "markdown",
      "source": [
        "디코더 클래스 정의"
      ],
      "metadata": {
        "id": "LHr8NxCCYdgJ"
      }
    },
    {
      "cell_type": "code",
      "source": [
        "class Decoder(nn.Module):\n",
        "    def __init__(self, target_vocab_size, embed_size, hidden_size):\n",
        "        super(Decoder, self).__init__()\n",
        "        self.embedding = nn.Embedding(target_vocab_size, embed_size)\n",
        "        self.lstm = nn.LSTM(embed_size, hidden_size, batch_first=True)\n",
        "        self.fc = nn.Linear(hidden_size, target_vocab_size)\n",
        "\n",
        "    def forward(self, x, hidden, cell):\n",
        "        # x: [batch_size], 현재 단어의 인덱스\n",
        "        x = x.unsqueeze(1)\n",
        "        embedding = self.embedding(x)\n",
        "        # embedding: [batch_size, 1, embed_size]\n",
        "        outputs, (hidden, cell) = self.lstm(embedding, (hidden, cell))\n",
        "        # outputs: [batch_size, 1, hidden_size]\n",
        "        predictions = self.fc(outputs.squeeze(1))\n",
        "        # predictions: [batch_size, target_vocab_size]\n",
        "        return predictions, hidden, cell"
      ],
      "metadata": {
        "id": "U4nvghvXYcXw"
      },
      "execution_count": null,
      "outputs": []
    },
    {
      "cell_type": "markdown",
      "source": [
        "Seq2Seq 클래스 정의"
      ],
      "metadata": {
        "id": "D_tzG-j6Yg-G"
      }
    },
    {
      "cell_type": "code",
      "source": [
        "class Seq2Seq(nn.Module):\n",
        "    def __init__(self, encoder, decoder, device):\n",
        "        super(Seq2Seq, self).__init__()\n",
        "        self.encoder = encoder\n",
        "        self.decoder = decoder\n",
        "        self.device = device\n",
        "\n",
        "    def forward(self, source, target, teacher_forcing_ratio=0.5):\n",
        "        batch_size = source.size(0)\n",
        "        target_len = target.size(1)\n",
        "        target_vocab_size = len(target_vocab)\n",
        "\n",
        "        outputs = torch.zeros(batch_size, target_len, target_vocab_size).to(self.device)\n",
        "\n",
        "        hidden, cell = self.encoder(source)\n",
        "\n",
        "        # 첫 번째 입력은 <sos> 토큰\n",
        "        input = target[:, 0]\n",
        "\n",
        "        for t in range(1, target_len):\n",
        "            output, hidden, cell = self.decoder(input, hidden, cell)\n",
        "            outputs[:, t] = output\n",
        "            # teacher forcing 결정\n",
        "            teacher_force = torch.rand(1).item() < teacher_forcing_ratio\n",
        "            top1 = output.argmax(1)\n",
        "            input = target[:, t] if teacher_force else top1\n",
        "        return outputs"
      ],
      "metadata": {
        "id": "oH346GwwYgKA"
      },
      "execution_count": null,
      "outputs": []
    },
    {
      "cell_type": "markdown",
      "source": [
        "## 모델 학습"
      ],
      "metadata": {
        "id": "zlWApJ09YpQ_"
      }
    },
    {
      "cell_type": "markdown",
      "source": [
        "손실함수 및 최적화기 설정"
      ],
      "metadata": {
        "id": "JSJhTg6OYtJN"
      }
    },
    {
      "cell_type": "code",
      "source": [
        "import torch.optim as optim\n",
        "\n",
        "# 하이퍼파라미터 설정\n",
        "input_vocab_size = len(input_vocab)\n",
        "target_vocab_size = len(target_vocab)\n",
        "embed_size = 16\n",
        "hidden_size = 32\n",
        "learning_rate = 0.001\n",
        "num_epochs = 5000\n",
        "\n",
        "device = torch.device('cuda' if torch.cuda.is_available() else 'cpu')\n",
        "\n",
        "# 모델 초기화\n",
        "encoder = Encoder(input_vocab_size, embed_size, hidden_size).to(device)\n",
        "decoder = Decoder(target_vocab_size, embed_size, hidden_size).to(device)\n",
        "model = Seq2Seq(encoder, decoder, device).to(device)\n",
        "\n",
        "# 손실 함수와 최적화기 정의\n",
        "criterion = nn.CrossEntropyLoss(ignore_index=target_word2idx['<pad>'])\n",
        "optimizer = optim.Adam(model.parameters(), lr=learning_rate)"
      ],
      "metadata": {
        "id": "aK3y2uRwYmQO"
      },
      "execution_count": null,
      "outputs": []
    },
    {
      "cell_type": "markdown",
      "source": [
        "모델 학습 루프 구현"
      ],
      "metadata": {
        "id": "TL8YlDWkY07_"
      }
    },
    {
      "cell_type": "code",
      "source": [
        "# 입력과 출력 시퀀스를 텐서로 변환\n",
        "input_tensor = torch.LongTensor(input_sequences).to(device)\n",
        "target_tensor = torch.LongTensor(target_sequences).to(device)\n",
        "\n",
        "# 학습 루프\n",
        "for epoch in range(1, num_epochs + 1):\n",
        "    optimizer.zero_grad()\n",
        "    output = model(input_tensor, target_tensor)\n",
        "    # 출력 차원 변경: [batch_size * target_len, target_vocab_size]\n",
        "    output_dim = output.shape[-1]\n",
        "    output = output[:, 1:].reshape(-1, output_dim)\n",
        "    target = target_tensor[:, 1:].reshape(-1)\n",
        "    loss = criterion(output, target)\n",
        "    loss.backward()\n",
        "    optimizer.step()\n",
        "\n",
        "    if epoch % 500 == 0:\n",
        "        print(f'Epoch: {epoch}, Loss: {loss.item():.4f}')"
      ],
      "metadata": {
        "id": "dn0_grRrY3fI"
      },
      "execution_count": null,
      "outputs": []
    },
    {
      "cell_type": "markdown",
      "source": [],
      "metadata": {
        "id": "pQVf0hiSY6nT"
      }
    },
    {
      "cell_type": "markdown",
      "source": [
        "## 예측 및 결과 확인"
      ],
      "metadata": {
        "id": "EuoIoQoqZBny"
      }
    },
    {
      "cell_type": "code",
      "source": [
        "def translate(sentence):\n",
        "    model.eval()\n",
        "    sentence = preprocess_sentence(sentence)\n",
        "    sequence = text_to_sequence(sentence, input_word2idx, max_target_len)\n",
        "    sequence = torch.LongTensor(sequence).unsqueeze(0).to(device)\n",
        "    with torch.no_grad():\n",
        "        hidden, cell = model.encoder(sequence)\n",
        "        input_token = torch.LongTensor([target_word2idx['<sos>']]).to(device)\n",
        "        result = []\n",
        "        for _ in range(20):\n",
        "            output, hidden, cell = model.decoder(input_token, hidden, cell)\n",
        "            top1 = output.argmax(1)\n",
        "            if top1.item() == target_word2idx['<eos>']:\n",
        "                break\n",
        "            result.append(top1.item())\n",
        "            input_token = top1\n",
        "    translated_sentence = ' '.join([target_idx2word[idx] for idx in result])\n",
        "    return translated_sentence"
      ],
      "metadata": {
        "id": "gvY0-qV_Y5mI"
      },
      "execution_count": null,
      "outputs": []
    },
    {
      "cell_type": "code",
      "source": [
        "# 예측 예시\n",
        "test_sentences = [\n",
        "    'je suis etudiant',\n",
        "    'il fait beau aujourd hui',\n",
        "    'nous aimons apprendre'\n",
        "]\n",
        "\n",
        "for sentence in test_sentences:\n",
        "    translation = translate(sentence)\n",
        "    print(f\"입력 문장: {sentence}\")\n",
        "    print(f\"번역 문장: {translation}\\n\")"
      ],
      "metadata": {
        "id": "i1na-ZfWZHhw"
      },
      "execution_count": null,
      "outputs": []
    }
  ]
}